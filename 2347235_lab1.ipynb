{
 "cells": [
  {
   "cell_type": "code",
   "execution_count": 2,
   "metadata": {},
   "outputs": [
    {
     "name": "stdout",
     "output_type": "stream",
     "text": [
      "Frequency of the word Mental: 3\n"
     ]
    }
   ],
   "source": [
    "String=\"My name is Mahua Saikia with a registration number of 2347235,class of 1 MCA B year 2023 Brief Note on Mental Health and Howthe IT Sector is Helping It: Mental health is a crucial aspect of overall well-being, encompassing emotional, psychological, and social well-being. It affects how we think, feel, and act, and plays a significant role in our ability to handle stress, relate to others, and make choices. Unfortunately, Mental health issues are prevalent worldwide, and the importance of addressing them has gained widespreadrecognition.In recent years, the IT sector has emerged as a powerful ally in the efforts to support and improve mental health.\"\n",
    "word=\"Mental\"\n",
    "String.count(word)\n",
    "Name='Mahua Saikia'\n",
    "Registration=2347235\n",
    "Class='1MCAB'\n",
    "Domain='Mental health'\n",
    "print (\"Frequency of the word Mental: \" +str(String.count(word)))\n"
   ]
  },
  {
   "cell_type": "code",
   "execution_count": 3,
   "metadata": {},
   "outputs": [
    {
     "name": "stdout",
     "output_type": "stream",
     "text": [
      "Type of name: <class 'str'>\n",
      "Type of class: <class 'str'>\n",
      "Type of RegNumber: <class 'int'>\n",
      "Type of domain: <class 'str'>\n"
     ]
    }
   ],
   "source": [
    "\"\"\"Write a python program to display all the datatypes of selected \n",
    "specific elements in the paragraph. (For example:– name - string, \n",
    "reg.no - int, marks - float, etc.)\"\"\"\n",
    "print(\"Type of name: \" + str(type(Name)))\n",
    "print(\"Type of class: \"+ str(type(Class)))\n",
    "print(\"Type of RegNumber: \" + str(type(Registration)))\n",
    "print(\"Type of domain: \" + str(type(Domain)))"
   ]
  },
  {
   "cell_type": "code",
   "execution_count": 5,
   "metadata": {},
   "outputs": [
    {
     "name": "stdout",
     "output_type": "stream",
     "text": [
      "TOtal no.s of Alphabets: 521\n",
      "TOtal no.s of Numeric: 12\n",
      "TOtal no.s of Symbols: 123\n"
     ]
    }
   ],
   "source": [
    "'Write a python program to count the number of alphabets, numeric and other special symbols in the paragraph.'\n",
    "alpha=0\n",
    "Num=0\n",
    "sym=0\n",
    "for i in String:\n",
    "    if i.isalpha():\n",
    "        alpha= alpha+1\n",
    "    elif i.isnumeric():\n",
    "        Num=Num+1\n",
    "    else :  \n",
    "        sym = sym + 1\n",
    "print(\"TOtal no.s of Alphabets: {}\".format(alpha))\n",
    "print(\"TOtal no.s of Numeric: {}\".format(Num))\n",
    "print(\"TOtal no.s of Symbols: {}\".format(sym))"
   ]
  },
  {
   "cell_type": "code",
   "execution_count": 7,
   "metadata": {},
   "outputs": [
    {
     "name": "stdout",
     "output_type": "stream",
     "text": [
      "Set (before pop): {2347235, 'test', 'MHC', 'MAHUA', '1-MCA-B'}\n",
      "Set After pop : {'test', 'MHC', 'MAHUA', '1-MCA-B'}\n",
      "Set After discard : {'test', 'MAHUA', '1-MCA-B'}\n",
      "Set after clear: set()\n"
     ]
    }
   ],
   "source": [
    "'Create a Set with elements that consists of various data types (int, float, string, Boolean, etc. from your domain) and perform the functions pop(), clear(), discard() and del. Write the insights as docstring.'\n",
    "Entities = {\"MAHUA\", 2347235, \"1-MCA-B\",\"MHC\",\"test\"}\n",
    "print('Set (before pop):', Entities)\n",
    "\"\"\"Randomly pop any element\"\"\"\n",
    "Entities.pop()\n",
    "print('Set After pop :',Entities)\n",
    "\"\"\"discard a specific element as the user wants\"\"\"\n",
    "Entities.discard(\"MHC\")\n",
    "print('Set After discard :',Entities)\n",
    "\"\"\"Clear the elements inside the set\"\"\"\n",
    "Entities.clear()\n",
    "print('Set after clear:',Entities)\n",
    "\"\"\" Del is used to delete the entier object\"\"\"\n",
    "del Entities"
   ]
  },
  {
   "cell_type": "code",
   "execution_count": 9,
   "metadata": {},
   "outputs": [
    {
     "name": "stdout",
     "output_type": "stream",
     "text": [
      "Set of Attributes {'Article', 'test', 'MHC', 'MAHUA', '1-MCA-B'}\n",
      "['test', 'MHC', 'MAHUA', 'Article', '1-MCA-B']\n",
      "\n",
      "Attribues \n",
      "('Mental_health', 'Support', 'Condition', 'Test')\n",
      "Mental_health\n",
      "Support\n",
      "['Condition', 'Test']\n"
     ]
    }
   ],
   "source": [
    "\"Update the Set with minimum 5 string attributes of your domain and arrange the Set in descending order.\"\n",
    "Entities = {\"MAHUA\", \"1-MCA-B\", \"MHC\", \"test\", \"Article\"}\n",
    "print(\"Set of Attributes\", Entities)\n",
    "print(sorted(Entities, reverse=True))\n",
    "\n",
    "\"Create a Tuple and Execute the packing and unpacking operations of tuples using the attributes of your domain.\"\n",
    "Tuple = (\"Mental_health\", \"Support\", \"Condition\", \"Test\")\n",
    "print(\"\\nAttribues \")\n",
    "print(Tuple)\n",
    "(Avarage, therapy, *op_ng) = Tuple\n",
    "print(Avarage)\n",
    "print(therapy)\n",
    "print(op_ng)"
   ]
  },
  {
   "cell_type": "code",
   "execution_count": 10,
   "metadata": {},
   "outputs": [
    {
     "name": "stdout",
     "output_type": "stream",
     "text": [
      "Counter({'e': 2, 't': 2, 'a': 2, 'l': 2, 'h': 2, 'M': 1, 'n': 1, ' ': 1})\n"
     ]
    }
   ],
   "source": [
    "'Enter your domain name as characters and count any number of characters and print the count (for example – (‘p’,’r’,’o’,’g’,’r’,’a’,’m’) count of ‘r’ = 2)'\n",
    "from collections import Counter\n",
    "domain_counter = Counter(Domain)\n",
    "print(domain_counter)"
   ]
  },
  {
   "cell_type": "code",
   "execution_count": 11,
   "metadata": {},
   "outputs": [
    {
     "name": "stdout",
     "output_type": "stream",
     "text": [
      "Mental\n",
      "eraC htlaeH latneM\n",
      "nt\n",
      "Mental Health Care\n"
     ]
    }
   ],
   "source": [
    "'Enter your domain name, execute all the slicing possibilities and also negative indexing.'\n",
    "Mydomain=\"Mental Health Care\"\n",
    "sliced_list=Mydomain[0:6]\n",
    "print(sliced_list)\n",
    "sliced_list=Mydomain[::-1]\n",
    "print(sliced_list)\n",
    "sliced_list=Mydomain[2:4]\n",
    "print(sliced_list)\n",
    "sliced_list=Mydomain[:]\n",
    "print(sliced_list)\n"
   ]
  }
 ],
 "metadata": {
  "kernelspec": {
   "display_name": "Python 3",
   "language": "python",
   "name": "python3"
  },
  "language_info": {
   "codemirror_mode": {
    "name": "ipython",
    "version": 3
   },
   "file_extension": ".py",
   "mimetype": "text/x-python",
   "name": "python",
   "nbconvert_exporter": "python",
   "pygments_lexer": "ipython3",
   "version": "3.10.8"
  },
  "orig_nbformat": 4
 },
 "nbformat": 4,
 "nbformat_minor": 2
}
